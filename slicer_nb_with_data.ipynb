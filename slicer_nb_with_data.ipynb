{
 "cells": [
  {
   "cell_type": "markdown",
   "metadata": {},
   "source": [
    "<a href=\"../desktop\" target=\"_blank\"><img src=\"https://www.slicer.org/img/3DSlicerLogo-H-Color-218x144.png\"/>\n",
    "<h1><center>Click here to open 3D Slicer in a new window</center></h1></a>"
   ]
  },
  {
   "cell_type": "code",
   "execution_count": 2,
   "metadata": {},
   "outputs": [
    {
     "data": {
      "text/html": [
       "\n",
       "        <iframe\n",
       "            width=\"960\"\n",
       "            height=\"768\"\n",
       "            src=\"../desktop\"\n",
       "            frameborder=\"0\"\n",
       "            allowfullscreen\n",
       "        ></iframe>\n",
       "        "
      ],
      "text/plain": [
       "<JupyterNotebooksLib.widgets.AppWindow object at 0x7f8a66c892b0>"
      ]
     },
     "execution_count": 2,
     "metadata": {},
     "output_type": "execute_result"
    }
   ],
   "source": [
    "# Run this cell (Shift+Enter) to show application here\n",
    "import JupyterNotebooksLib as slicernb\n",
    "slicernb.AppWindow(contents='full')"
   ]
  },
  {
   "cell_type": "code",
   "execution_count": 4,
   "metadata": {},
   "outputs": [
    {
     "data": {
      "application/vnd.jupyter.widget-view+json": {
       "model_id": "74a29745cae94a2aa221183eb0a5c5c8",
       "version_major": 2,
       "version_minor": 0
      },
      "text/plain": [
       "IntProgress(value=0)"
      ]
     },
     "metadata": {},
     "output_type": "display_data"
    }
   ],
   "source": [
    "slicer.mrmlScene.Clear()\n",
    "\n",
    "volume1 = slicernb.downloadFromURL(\n",
    "    uris=\"https://github.com/FaizanSiddiqui91/TestData/blob/main/T1.nrrd?raw=true\",\n",
    "    fileNames=\"T1.nrrd\",\n",
    "    nodeNames=\"Volume\")[0]\n",
    "\n",
    "fiber=slicer.modules.models.logic().AddModel(slicernb.localPath(\"data/Fiber.vtk\"))\n",
    "fiber.GetDisplayNode().SetColor(1,0,0)\n",
    "fiber.GetDisplayNode().SetLineWidth(2)\n",
    "\n",
    "slicer.app.layoutManager().sliceWidget(\"Yellow\").sliceController().setSliceVisible(True)"
   ]
  },
  {
   "cell_type": "code",
   "execution_count": 5,
   "metadata": {},
   "outputs": [
    {
     "data": {
      "application/vnd.jupyter.widget-view+json": {
       "model_id": "d387031b0c0542dfa4682ebc7e4e2dcd",
       "version_major": 2,
       "version_minor": 0
      },
      "text/plain": [
       "ViewInteractiveWidget(height=189, width=230)"
      ]
     },
     "metadata": {},
     "output_type": "display_data"
    }
   ],
   "source": [
    "# Adjust maximum rate of Slicer's Jupyter kernel consuming Jupyter messages.\n",
    "# Lower values make the notebook more responsive but too low values may make the Slicer application\n",
    "# slow to respond.\n",
    "slicer.modules.jupyterkernel.setPollIntervalSec(0.001)\n",
    "\n",
    "# 3D view\n",
    "slicernb.AppWindow.setWindowSize(scale=0.5)\n",
    "live3d = slicernb.ViewInteractiveWidget('1')\n",
    "live3d.trackMouseMove = True\n",
    "display(live3d)"
   ]
  },
  {
   "cell_type": "code",
   "execution_count": null,
   "metadata": {},
   "outputs": [],
   "source": []
  }
 ],
 "metadata": {
  "kernelspec": {
   "display_name": "Slicer 4.11",
   "language": "python",
   "name": "slicer-4.11"
  },
  "language_info": {
   "file_extension": ".py",
   "mimetype": "text/x-python",
   "name": "python",
   "version": "3.6.7"
  }
 },
 "nbformat": 4,
 "nbformat_minor": 4
}
