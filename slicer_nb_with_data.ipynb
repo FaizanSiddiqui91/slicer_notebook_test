{
 "cells": [
  {
   "cell_type": "markdown",
   "metadata": {},
   "source": [
    "<a href=\"../desktop\" target=\"_blank\"><img src=\"https://www.slicer.org/img/3DSlicerLogo-H-Color-218x144.png\"/>\n",
    "<h1><center>Click here to open 3D Slicer in a new window</center></h1></a>"
   ]
  },
  {
   "cell_type": "code",
   "execution_count": 9,
   "metadata": {},
   "outputs": [],
   "source": [
    "# Run this cell (Shift+Enter) to show application here\n",
    "import JupyterNotebooksLib as slicernb\n",
    "#slicernb.AppWindow(contents='full')"
   ]
  },
  {
   "cell_type": "code",
   "execution_count": 14,
   "metadata": {},
   "outputs": [
    {
     "data": {
      "application/vnd.jupyter.widget-view+json": {
       "model_id": "8744feb8667b4cc19a03c4d3e938660b",
       "version_major": 2,
       "version_minor": 0
      },
      "text/plain": [
       "IntProgress(value=0)"
      ]
     },
     "metadata": {},
     "output_type": "display_data"
    }
   ],
   "source": [
    "slicer.mrmlScene.Clear()\n",
    "\n",
    "volume1 = slicernb.downloadFromURL(\n",
    "    uris=\"https://github.com/FaizanSiddiqui91/TestData/blob/main/T1.nrrd?raw=true\",\n",
    "    fileNames=\"T1.nrrd\",\n",
    "    nodeNames=\"Volume\")[0]\n",
    "\n",
    "fiber=slicer.modules.models.logic().AddModel(slicernb.localPath(\"data/Fiber.vtk\"))\n",
    "fiber.GetDisplayNode().SetColor(1,0,0)\n",
    "fiber.GetDisplayNode().SetLineWidth(4)\n",
    "\n",
    "fiber.GetDisplayNode().SetSliceIntersectionVisibility(True)\n",
    "\n",
    "slicer.app.layoutManager().sliceWidget(\"Yellow\").sliceController().setSliceVisible(True)"
   ]
  },
  {
   "cell_type": "markdown",
   "metadata": {},
   "source": [
    "3D View"
   ]
  },
  {
   "cell_type": "code",
   "execution_count": 15,
   "metadata": {},
   "outputs": [
    {
     "data": {
      "application/vnd.jupyter.widget-view+json": {
       "model_id": "7b52b6457fb144408a65f1360ddb1d4d",
       "version_major": 2,
       "version_minor": 0
      },
      "text/plain": [
       "ViewInteractiveWidget(height=445, width=458)"
      ]
     },
     "metadata": {},
     "output_type": "display_data"
    },
    {
     "data": {
      "application/vnd.jupyter.widget-view+json": {
       "model_id": "8e3b0424c0bc4c1891a4fcf6a63b5ec0",
       "version_major": 2,
       "version_minor": 0
      },
      "text/plain": [
       "interactive(children=(IntSlider(value=50, description='position'), Output()), _dom_classes=('widget-interact',…"
      ]
     },
     "metadata": {},
     "output_type": "display_data"
    }
   ],
   "source": [
    "# Adjust maximum rate of Slicer's Jupyter kernel consuming Jupyter messages.\n",
    "# Lower values make the notebook more responsive but too low values may make the Slicer application\n",
    "# slow to respond.\n",
    "from ipywidgets import interact\n",
    "slicer.modules.jupyterkernel.setPollIntervalSec(0.001)\n",
    "\n",
    "# 3D view\n",
    "slicernb.AppWindow.setWindowSize(scale=1)\n",
    "live3d = slicernb.ViewInteractiveWidget('1')\n",
    "live3d.trackMouseMove = True\n",
    "display(live3d)\n",
    "\n",
    "@interact(position=(0,100))\n",
    "def update(position=50):\n",
    "    return slicernb.ViewSliceDisplay('Yellow', positionPercent=position)"
   ]
  },
  {
   "cell_type": "code",
   "execution_count": 6,
   "metadata": {},
   "outputs": [
    {
     "data": {
      "application/vnd.jupyter.widget-view+json": {
       "model_id": "e394063c7c404107ae3bee49ab5184d7",
       "version_major": 2,
       "version_minor": 0
      },
      "text/plain": [
       "interactive(children=(IntSlider(value=50, description='position'), Output()), _dom_classes=('widget-interact',…"
      ]
     },
     "metadata": {},
     "output_type": "display_data"
    }
   ],
   "source": [
    "from ipywidgets import interact\n",
    "@interact(position=(0,100))\n",
    "def update(position=50):\n",
    "    return slicernb.ViewSliceDisplay('Yellow', positionPercent=position)"
   ]
  },
  {
   "cell_type": "code",
   "execution_count": null,
   "metadata": {},
   "outputs": [],
   "source": []
  }
 ],
 "metadata": {
  "kernelspec": {
   "display_name": "Slicer 4.11",
   "language": "python",
   "name": "slicer-4.11"
  },
  "language_info": {
   "file_extension": ".py",
   "mimetype": "text/x-python",
   "name": "python",
   "version": "3.6.7"
  }
 },
 "nbformat": 4,
 "nbformat_minor": 4
}
